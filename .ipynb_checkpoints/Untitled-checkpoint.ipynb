{
 "cells": [
  {
   "cell_type": "code",
   "execution_count": null,
   "id": "77eb672e-1639-4330-a263-d9fb64063cbd",
   "metadata": {},
   "outputs": [],
   "source": [
    "# Import data manipulation libraries\n",
    "import pandas as pd\n",
    "import numpy as np\n",
    "\n",
    "# Import data visualization libraries\n",
    "import seaborn as sns\n",
    "import matplotlib.pyplot as plt\n",
    "\n",
    " # import filetr warnings library \n",
    "import warnings\n",
    "warnings.filterwarnings('ignore')\n",
    "# import logging \n",
    "import logging\n",
    "logging.basicConfig(level = logging.INFO,\n",
    "                   format ='%(asctime)s - %(levelname)s - %(message)s',\n",
    "                   filemode = 'w',\n",
    "                   filename ='model.log',force = True)"
   ]
  },
  {
   "cell_type": "code",
   "execution_count": null,
   "id": "9161b916-587a-4990-a8cd-88c4024ea7a2",
   "metadata": {},
   "outputs": [],
   "source": [
    "logging.info('import dataset for model building...')"
   ]
  },
  {
   "cell_type": "code",
   "execution_count": null,
   "id": "87036deb-c74e-486d-a0f8-20bb5111c7d5",
   "metadata": {},
   "outputs": [],
   "source": [
    "url = 'https://raw.githubusercontent.com/gautamrajoriya/CementPrediction_Model/refs/heads/main/Concrete_Data%20(1).csv'\n",
    "df = pd.read_csv(url)"
   ]
  },
  {
   "cell_type": "code",
   "execution_count": null,
   "id": "0338e341-114b-45b6-89b6-913984fa06be",
   "metadata": {},
   "outputs": [],
   "source": [
    "df.sample(frac=1)"
   ]
  },
  {
   "cell_type": "code",
   "execution_count": null,
   "id": "d5016c18-1ce2-4b8f-b437-ac153eed9ef0",
   "metadata": {},
   "outputs": [],
   "source": []
  }
 ],
 "metadata": {
  "kernelspec": {
   "display_name": "Python 3 (ipykernel)",
   "language": "python",
   "name": "python3"
  },
  "language_info": {
   "codemirror_mode": {
    "name": "ipython",
    "version": 3
   },
   "file_extension": ".py",
   "mimetype": "text/x-python",
   "name": "python",
   "nbconvert_exporter": "python",
   "pygments_lexer": "ipython3",
   "version": "3.12.7"
  }
 },
 "nbformat": 4,
 "nbformat_minor": 5
}
